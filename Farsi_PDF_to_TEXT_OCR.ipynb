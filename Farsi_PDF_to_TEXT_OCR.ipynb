{
  "nbformat": 4,
  "nbformat_minor": 0,
  "metadata": {
    "colab": {
      "name": "Farsi_PDF_to_TEXT_OCR.ipynb",
      "provenance": [],
      "authorship_tag": "ABX9TyPh7AZZuXeU2DJlcD1TYq6n",
      "include_colab_link": true
    },
    "kernelspec": {
      "name": "python3",
      "display_name": "Python 3"
    },
    "language_info": {
      "name": "python"
    }
  },
  "cells": [
    {
      "cell_type": "markdown",
      "metadata": {
        "id": "view-in-github",
        "colab_type": "text"
      },
      "source": [
        "<a href=\"https://colab.research.google.com/github/shahmohamadi/PDF_TEXT_OCR/blob/main/Farsi_PDF_to_TEXT_OCR.ipynb\" target=\"_parent\"><img src=\"https://colab.research.google.com/assets/colab-badge.svg\" alt=\"Open In Colab\"/></a>"
      ]
    },
    {
      "cell_type": "code",
      "execution_count": null,
      "metadata": {
        "id": "UUNkSforMtxs"
      },
      "outputs": [],
      "source": [
        "!pip install pdf2image\n",
        "!pip install pytesseract\n",
        "!pip install tesseract\n",
        "!sudo apt-get install tesseract-ocr-fas\n",
        "!sudo apt-get install -y poppler-utils\n",
        "!sudo apt install tesseract-ocr"
      ]
    },
    {
      "cell_type": "code",
      "source": [
        "import cv2\n",
        "import pytesseract\n",
        "import numpy as np\n",
        "from PIL import Image\n",
        "from matplotlib import pyplot as plt\n",
        "from pdf2image import convert_from_path\n",
        "from pathlib import Path\n",
        "import os\n",
        "import pytesseract\n",
        "from PIL import Image\n",
        "import glob"
      ],
      "metadata": {
        "id": "BsZ_wjdlMzUY"
      },
      "execution_count": 2,
      "outputs": []
    },
    {
      "cell_type": "code",
      "metadata": {
        "colab": {
          "base_uri": "https://localhost:8080/"
        },
        "id": "rTHP-9JYZI_q",
        "outputId": "a92b123e-7987-4d4e-f418-2da3ac10164f"
      },
      "source": [
        "pdf_path = Path('/content/قرارداد اسکنر.pdf')\n",
        "pdf_name = pdf_path.name\n",
        "parent_dir = pdf_path.parent.absolute()\n",
        "all_imgs_dir = str(parent_dir) + '/' + pdf_name[:-4] + '/'\n",
        "\n",
        "print(pdf_name, '\\n', parent_dir, '\\n', all_imgs_dir)"
      ],
      "execution_count": 4,
      "outputs": [
        {
          "output_type": "stream",
          "name": "stdout",
          "text": [
            "قرارداد اسکنر.pdf \n",
            " /content \n",
            " /content/قرارداد اسکنر/\n"
          ]
        }
      ]
    },
    {
      "cell_type": "code",
      "metadata": {
        "id": "7kWXs1JCCK8y"
      },
      "source": [
        "def pdf_img(pdf_path):\n",
        "\n",
        "  img_dir = str(parent_dir) + '/' + pdf_name[:-4]\n",
        "  if not os.path.exists(img_dir):\n",
        "    os.mkdir(img_dir)\n",
        "  pages = convert_from_path(pdf_path, 350)\n",
        "\n",
        "  i = 1\n",
        "  for page in pages:\n",
        "    image_name = \"Page_\" + str(i) + \".jpg\"\n",
        "    page.save(img_dir + '/' + image_name, \"JPEG\")\n",
        "    i = i+1\n",
        "\n",
        "  return\n",
        "\n",
        "def img_word(img_path):\n",
        "\n",
        "  output = pytesseract.image_to_string(Image.open(img_path), lang='fas')\n",
        "  print(output)\n",
        "\n",
        "  with open(str(parent_dir) + '/' + pdf_name[:-4]+ '.txt', \"a+\") as text_file:\n",
        "      text_file.write(output)\n",
        "\n",
        "  return()"
      ],
      "execution_count": 5,
      "outputs": []
    },
    {
      "cell_type": "code",
      "metadata": {
        "id": "dhknJTwVZSJI"
      },
      "source": [
        "pdf_img(pdf_path)\n",
        "\n",
        "arr = os.listdir(str(parent_dir) + '/' + pdf_name[:-4])\n",
        "arr = sorted(arr)\n",
        "\n",
        "for img_name in arr:\n",
        "  img_word(all_imgs_dir + img_name)"
      ],
      "execution_count": null,
      "outputs": []
    }
  ]
}